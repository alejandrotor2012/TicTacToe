{
 "cells": [
  {
   "cell_type": "code",
   "execution_count": null,
   "metadata": {},
   "outputs": [],
   "source": []
  },
  {
   "cell_type": "code",
   "execution_count": null,
   "metadata": {},
   "outputs": [],
   "source": []
  },
  {
   "cell_type": "code",
   "execution_count": 230,
   "metadata": {},
   "outputs": [
    {
     "name": "stdout",
     "output_type": "stream",
     "text": [
      "Let's have a game of tic tac toe!\n",
      "\n",
      "In order to play just use the number pad for your selections:\n",
      "1 being the bottom left corner and nine being the top right hand corner.\n",
      "\n",
      "Ready player 1....do you want to be X's or O's?: x\n",
      "BREAK\n",
      "BREAK\n",
      "BREAK\n",
      "BREAK\n",
      "BREAK\n",
      "BREAK\n",
      "BREAK\n",
      "BREAK\n",
      "BREAK\n"
     ]
    }
   ],
   "source": [
    "print(\"Let's have a game of tic tac toe!\" + \n",
    "     \"\\n\\nIn order to play just use the number pad for your selections:\" +\n",
    "     \"\\n1 being the bottom left corner and nine being the top right hand corner.\")\n",
    "\n",
    "player1 = input(\"\\nReady player 1....do you want to be X's or O's?: \")\n",
    "\n",
    "if player1 == 'x':\n",
    "    player2 = 'o'\n",
    "else:\n",
    "    player2 = 'x'\n",
    "\n",
    "l= [' ',' ',' ',' ',' ',' ',' ',' ',' ',' ']\n",
    "\n",
    "def play1(move):\n",
    "    l[move] = player1\n",
    "    \n",
    "def play2(move):\n",
    "    l[move] = player2\n",
    "\n",
    "def board():\n",
    "    print('\\n{}|{}|{}'.format(l[7],l[8],l[9])+\n",
    "          '\\n-----'+\n",
    "          '\\n{}|{}|{}'.format(l[4],l[5],l[6])+\n",
    "          '\\n-----'+\n",
    "          '\\n{}|{}|{}'.format(l[1],l[2],l[3]))\n",
    "\n",
    "   \n",
    "    #while (''.join(l[1:3]) != 'xxx') or (''.join(l[1:3]) != 'ooo') or \\\n",
    "#          (''.join(l[4:6]) != 'xxx') or (''.join(l[4:6]) != 'ooo') or \\\n",
    "#          (''.join(l[7:9]) != 'xxx') or (''.join(l[7:9]) != 'ooo') or \\\n",
    "#          (''.join(l[1] + l[4] + l[7]) != 'xxx') or (''.join(l[1] + l[4] + l[7]) != 'ooo') or \\\n",
    "#          (''.join(l[2] + l[5] + l[8]) != 'xxx') or (''.join(l[2] + l[5] + l[8]) != 'ooo') or \\\n",
    "#          (''.join(l[3] + l[6] + l[9]) != 'xxx') or (''.join(l[3] + l[6] + l[9]) != 'ooo') or \\\n",
    "#          (''.join(l[1] + l[5] + l[9]) != 'xxx') or (''.join(l[3] + l[5] + l[7]) != 'ooo'):\n",
    "\n",
    "for n in range(0,9):\n",
    "   \n",
    "    if ''.join(l[1:3]) == 'xxx' or ''.join(l[1:3]) == 'ooo' or \\\n",
    "          ''.join(l[4:6]) == 'xxx' or ''.join(l[4:6]) == 'ooo' or \\\n",
    "          ''.join(l[7:9]) == 'xxx' or ''.join(l[7:9]) == 'ooo' or \\\n",
    "          ''.join(l[1] + l[4] + l[7]) == 'xxx' or ''.join(l[1] + l[4] + l[7]) == 'ooo' or \\\n",
    "          ''.join(l[2] + l[5] + l[8]) == 'xxx' or ''.join(l[2] + l[5] + l[8]) == 'ooo' or \\\n",
    "          ''.join(l[3] + l[6] + l[9]) == 'xxx' or ''.join(l[3] + l[6] + l[9]) == 'ooo' or \\\n",
    "          ''.join(l[1] + l[5] + l[9]) == 'xxx' or ''.join(l[3] + l[5] + l[7]) == 'ooo':\n",
    "\n",
    "        if player1 == 'x':\n",
    "            if (n+1) %2 == 0:\n",
    "\n",
    "                move = int(input('Player 2, your move: '))\n",
    "                play2(move)\n",
    "\n",
    "                board()\n",
    "               \n",
    "                n+=1\n",
    "            else:\n",
    "                move = int(input('Player 1, your move: '))\n",
    "                play1(move)\n",
    "\n",
    "                board()\n",
    "             \n",
    "                n+=1\n",
    "        else:\n",
    "            if (n+1) %2 == 0:\n",
    "\n",
    "                move = int(input('Player 1, your move: '))\n",
    "                play1(move)\n",
    "\n",
    "                board()\n",
    "               \n",
    "                n+=1\n",
    "            else:\n",
    "                move = int(input('Player 2, your move: '))\n",
    "                play2(move)\n",
    "\n",
    "                board()\n",
    "               \n",
    "                n+=1\n",
    "    else:\n",
    "        print('BREAK')"
   ]
  },
  {
   "cell_type": "code",
   "execution_count": null,
   "metadata": {},
   "outputs": [],
   "source": [
    "\n",
    "    print('\\n{}|{}|{}'.format(l[7],l[8],l[9])+\n",
    "          '\\n-----'+\n",
    "          '\\n{}|{}|{}'.format(l[4],l[5],l[6])+\n",
    "          '\\n-----'+\n",
    "          '\\n{}|{}|{}'.format(l[1],l[2],l[3]))\n",
    "    \n",
    "    move = int(input('Player your move? '))\n",
    "\n",
    "    l[move] = player1\n",
    "print('\\n{}|{}|{}'.format(l[7],l[8],l[9])+\n",
    "          '\\n-----'+\n",
    "          '\\n{}|{}|{}'.format(l[4],l[5],l[6])+\n",
    "          '\\n-----'+\n",
    "          '\\n{}|{}|{}'.format(l[1],l[2],l[3]))"
   ]
  },
  {
   "cell_type": "code",
   "execution_count": 88,
   "metadata": {},
   "outputs": [],
   "source": [
    "l= [' ',' ',' ',' ',' ',' ',' ',' ',' ',' ']"
   ]
  },
  {
   "cell_type": "code",
   "execution_count": 89,
   "metadata": {},
   "outputs": [],
   "source": [
    "def tic_tac_toe(move):\n",
    "    print('{}|{}|{}'.format(l[7],l[8],l[9])+\n",
    "      '\\n-----'+\n",
    "      '\\n{}|{}|{}'.format(l[4],l[5],l[6])+\n",
    "      '\\n-----'+\n",
    "      '\\n{}|{}|{}'.format(l[1],l[2],l[3]))"
   ]
  },
  {
   "cell_type": "code",
   "execution_count": 97,
   "metadata": {},
   "outputs": [
    {
     "name": "stdout",
     "output_type": "stream",
     "text": [
      "First move? 4\n",
      " | |x\n",
      "-----\n",
      "x|x| \n",
      "-----\n",
      " | |x\n"
     ]
    }
   ],
   "source": [
    "move1 = int(input('First move? '))\n",
    "\n",
    "l[move1] = player1\n",
    "\n",
    "print('{}|{}|{}'.format(l[7],l[8],l[9])+\n",
    "      '\\n-----'+\n",
    "      '\\n{}|{}|{}'.format(l[4],l[5],l[6])+\n",
    "      '\\n-----'+\n",
    "      '\\n{}|{}|{}'.format(l[1],l[2],l[3]))"
   ]
  },
  {
   "cell_type": "code",
   "execution_count": 202,
   "metadata": {},
   "outputs": [
    {
     "data": {
      "text/plain": [
       "'xp'"
      ]
     },
     "execution_count": 202,
     "metadata": {},
     "output_type": "execute_result"
    }
   ],
   "source": [
    "l = ['x','o','x','q','p']\n",
    "\n",
    "def check(lst):\n",
    "    return l[0] + l[4]\n",
    "    \n",
    "check(l)"
   ]
  },
  {
   "cell_type": "code",
   "execution_count": 205,
   "metadata": {},
   "outputs": [
    {
     "data": {
      "text/plain": [
       "'xp'"
      ]
     },
     "execution_count": 205,
     "metadata": {},
     "output_type": "execute_result"
    }
   ],
   "source": [
    "''.join(l[0] + l[4])"
   ]
  }
 ],
 "metadata": {
  "kernelspec": {
   "display_name": "Python 3",
   "language": "python",
   "name": "python3"
  },
  "language_info": {
   "codemirror_mode": {
    "name": "ipython",
    "version": 3
   },
   "file_extension": ".py",
   "mimetype": "text/x-python",
   "name": "python",
   "nbconvert_exporter": "python",
   "pygments_lexer": "ipython3",
   "version": "3.7.4"
  }
 },
 "nbformat": 4,
 "nbformat_minor": 2
}
