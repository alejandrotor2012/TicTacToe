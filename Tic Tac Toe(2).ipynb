print("Let's have a game of tic tac toe!" + 
     "\n\nIn order to play just use the number pad for your selections:" +
     "\n1 being the bottom left corner and nine being the top right hand corner.")

player1 = input("\nReady player 1....do you want to be X's or O's?: ")

if player1 == 'x':
    player2 = 'o'
else:
    player2 = 'x'

l= [' ',' ',' ',' ',' ',' ',' ',' ',' ',' ']

def play1(move):
    l[move] = player1
    
def play2(move):
    l[move] = player2

def board():
    print('\n{}|{}|{}'.format(l[7],l[8],l[9])+
          '\n-----'+
          '\n{}|{}|{}'.format(l[4],l[5],l[6])+
          '\n-----'+
          '\n{}|{}|{}'.format(l[1],l[2],l[3]))

   
    #while (''.join(l[1:3]) != 'xxx') or (''.join(l[1:3]) != 'ooo') or \
#          (''.join(l[4:6]) != 'xxx') or (''.join(l[4:6]) != 'ooo') or \
#          (''.join(l[7:9]) != 'xxx') or (''.join(l[7:9]) != 'ooo') or \
#          (''.join(l[1] + l[4] + l[7]) != 'xxx') or (''.join(l[1] + l[4] + l[7]) != 'ooo') or \
#          (''.join(l[2] + l[5] + l[8]) != 'xxx') or (''.join(l[2] + l[5] + l[8]) != 'ooo') or \
#          (''.join(l[3] + l[6] + l[9]) != 'xxx') or (''.join(l[3] + l[6] + l[9]) != 'ooo') or \
#          (''.join(l[1] + l[5] + l[9]) != 'xxx') or (''.join(l[3] + l[5] + l[7]) != 'ooo'):

for n in range(0,9):
    #if l[2] != 'x' and l[5] != 'x' and l[8] != 'x':   
    if ''.join(l[1:4]) != 'xxx' and ''.join(l[1:4]) != 'ooo' and \
          ''.join(l[4:7]) != 'xxx' and''.join(l[4:7]) != 'ooo' and \
          ''.join(l[7::]) != 'xxx' and ''.join(l[7::]) != 'ooo' and \
          ''.join(l[1] + l[4] + l[7]) != 'xxx' and ''.join(l[1] + l[4] + l[7]) != 'ooo' and \
          ''.join(l[2] + l[5] + l[8]) != 'xxx' and ''.join(l[2] + l[5] + l[8]) != 'ooo' and \
          ''.join(l[3] + l[6] + l[9]) != 'xxx' and ''.join(l[3] + l[6] + l[9]) != 'ooo' and \
          ''.join(l[1] + l[5] + l[9]) != 'xxx' and ''.join(l[3] + l[5] + l[7]) != 'ooo':

        if player1 == 'x':
            if (n+1) %2 == 0:

                move = int(input('Player 2, your move: '))
                play2(move)

                board()
                player = 'Player 2'
                n+=1
            else:
                move = int(input('Player 1, your move: '))
                play1(move)

                board()
                player = 'Player 1'
                n+=1
        else:
            if (n+1) %2 == 0:

                move = int(input('Player 1, your move: '))
                play1(move)

                board()
                player = 'Player 1'
                n+=1
            else:
                move = int(input('Player 2, your move: '))
                play2(move)

                board()
                player = 'Player 2'
                n+=1
    else:
        print("\n")
        print('Congratulations ' + player + ' you won this round!')
        break
